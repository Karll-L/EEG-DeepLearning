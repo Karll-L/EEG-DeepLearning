{
  "nbformat": 4,
  "nbformat_minor": 0,
  "metadata": {
    "kernelspec": {
      "display_name": "Python 3",
      "language": "python",
      "name": "python3"
    },
    "language_info": {
      "codemirror_mode": {
        "name": "ipython",
        "version": 3
      },
      "file_extension": ".py",
      "mimetype": "text/x-python",
      "name": "python",
      "nbconvert_exporter": "python",
      "pygments_lexer": "ipython3",
      "version": "3.7.6"
    },
    "colab": {
      "name": "Only_physionet.ipynb",
      "provenance": []
    }
  },
  "cells": [
    {
      "cell_type": "code",
      "metadata": {
        "id": "Y11a130Ayhqi",
        "colab_type": "code",
        "colab": {
          "base_uri": "https://localhost:8080/",
          "height": 237
        },
        "outputId": "c590e308-1dfa-4a4f-e3f7-9dcc35d8b818"
      },
      "source": [
        "!pip install pyedflib\n",
        "import numpy as np\n",
        "import matplotlib.pyplot as plotter\n",
        "from pyedflib import highlevel\n",
        "%matplotlib inline\n"
      ],
      "execution_count": null,
      "outputs": [
        {
          "output_type": "stream",
          "text": [
            "Collecting pyedflib\n",
            "\u001b[?25l  Downloading https://files.pythonhosted.org/packages/ab/3a/63b316df182020c9fe7eab81a91c131a96df53101a3617b57e1a70445a12/pyEDFlib-0.1.17.tar.gz (1.1MB)\n",
            "\u001b[K     |████████████████████████████████| 1.1MB 4.6MB/s \n",
            "\u001b[?25hRequirement already satisfied: numpy>=1.9.1 in /usr/local/lib/python3.6/dist-packages (from pyedflib) (1.18.4)\n",
            "Building wheels for collected packages: pyedflib\n",
            "  Building wheel for pyedflib (setup.py) ... \u001b[?25l\u001b[?25hdone\n",
            "  Created wheel for pyedflib: filename=pyEDFlib-0.1.17-cp36-cp36m-linux_x86_64.whl size=920790 sha256=df4204b19ea6bc649a950cb7293998cc8e5e70108b302d89f3f699c87d5db817\n",
            "  Stored in directory: /root/.cache/pip/wheels/f8/f2/6b/ce6178c882779963f57d9764c3856b7cb63dd9995579be6b23\n",
            "Successfully built pyedflib\n",
            "Installing collected packages: pyedflib\n",
            "Successfully installed pyedflib-0.1.17\n"
          ],
          "name": "stdout"
        }
      ]
    },
    {
      "cell_type": "markdown",
      "metadata": {
        "id": "b-_oNpo50EkD",
        "colab_type": "text"
      },
      "source": [
        "Link for Subject00_2.edf:\n",
        "https://drive.google.com/open?id=1FqRPRD652sS4mQ2B3jYU4OoZa3yxHCrD"
      ]
    },
    {
      "cell_type": "code",
      "metadata": {
        "id": "D2MxGMzVyhq1",
        "colab_type": "code",
        "colab": {
          "base_uri": "https://localhost:8080/",
          "height": 92
        },
        "outputId": "c86852e0-b939-462c-d40b-e7af25bbedf5"
      },
      "source": [
        "\n",
        "signals, signal_headers, header = highlevel.read_edf('Subject00_2.edf')\n",
        "print(signal_headers[0]['sample_rate']) \n",
        "print((signal_headers[0:2]))\n",
        "print(len(signals[0]))\n",
        "sfreq = signal_headers[0]['sample_rate']"
      ],
      "execution_count": null,
      "outputs": [
        {
          "output_type": "stream",
          "text": [
            "500\n",
            "[{'label': 'EEG Fp1', 'dimension': 'uV', 'sample_rate': 500, 'physical_max': 78.81055, 'physical_min': -93.352, 'digital_max': 32767, 'digital_min': -32768, 'prefilter': 'HP:0.500000Hz LP:45.000000Hz RF:50Hz', 'transducer': ''}, {'label': 'EEG Fp2', 'dimension': 'uV', 'sample_rate': 500, 'physical_max': 47.90948, 'physical_min': -82.3473, 'digital_max': 32767, 'digital_min': -32768, 'prefilter': 'HP:0.500000Hz LP:45.000000Hz RF:50Hz', 'transducer': ''}]\n",
            "31000\n"
          ],
          "name": "stdout"
        }
      ]
    },
    {
      "cell_type": "code",
      "metadata": {
        "id": "i6hGXv93yhq9",
        "colab_type": "code",
        "colab": {
          "base_uri": "https://localhost:8080/",
          "height": 368
        },
        "outputId": "506b4fc6-30dd-4155-bc08-00637cb1d3eb"
      },
      "source": [
        "#for i in range(21):\n",
        "fourierTransform = np.fft.fft(signals[0])/len(signals[0])           # Normalize amplitude\n",
        "print(fourierTransform)\n",
        "\n",
        "fourierTransform = fourierTransform[range(int(len(signals[0])/2))] # Exclude sampling frequency\n",
        "#print(fourierTransform)\n",
        "\n",
        " \n",
        "\n",
        "tpCount     = len(signals[0])\n",
        "\n",
        "values      = np.arange(int(tpCount/2))\n",
        "    #print(values)\n",
        "\n",
        "timePeriod  = tpCount/sfreq\n",
        "\n",
        "frequencies = values/timePeriod\n",
        "\n",
        "\n",
        "\n",
        "    # Frequency domain representation\n",
        "figure, axis = plotter.subplots(1, 1, figsize = (12, 4))\n",
        "\n",
        "plotter.subplots_adjust(hspace=3)\n",
        "axis.set_title('Fourier transform depicting the frequency components')\n",
        "\n",
        "\n",
        "\n",
        "axis.plot(frequencies, abs(fourierTransform))\n",
        "\n",
        "axis.set_xlabel('Frequency')\n",
        "\n",
        "axis.set_ylabel('Amplitude')\n",
        "\n",
        "plotter.show()\n",
        "print('plotted')"
      ],
      "execution_count": null,
      "outputs": [
        {
          "output_type": "stream",
          "text": [
            "[-0.19180527+0.j         -0.18891013-0.02197447j -0.18392499-0.04339433j\n",
            " ... -0.17573791+0.06371471j -0.18392499+0.04339433j\n",
            " -0.18891013+0.02197447j]\n"
          ],
          "name": "stdout"
        },
        {
          "output_type": "display_data",
          "data": {
            "image/png": "[encoded data removed]",
            "text/plain": [
              "<Figure size 864x288 with 1 Axes>"
            ]
          },
          "metadata": {
            "tags": [],
            "needs_background": "light"
          }
        },
        {
          "output_type": "stream",
          "text": [
            "plotted\n"
          ],
          "name": "stdout"
        }
      ]
    },
    {
      "cell_type": "code",
      "metadata": {
        "id": "ktDQOp6XyhrC",
        "colab_type": "code",
        "colab": {}
      },
      "source": [
        ""
      ],
      "execution_count": null,
      "outputs": []
    }
  ]
}